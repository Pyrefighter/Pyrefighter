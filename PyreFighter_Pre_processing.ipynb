{
  "nbformat": 4,
  "nbformat_minor": 5,
  "metadata": {
    "kernelspec": {
      "display_name": "Python 3",
      "language": "python",
      "name": "python3"
    },
    "language_info": {
      "codemirror_mode": {
        "name": "ipython",
        "version": 3
      },
      "file_extension": ".py",
      "mimetype": "text/x-python",
      "name": "python",
      "nbconvert_exporter": "python",
      "pygments_lexer": "ipython3",
      "version": "3.8.5"
    },
    "colab": {
      "name": "PyreFighter - Pre-processing.ipynb",
      "provenance": []
    }
  },
  "cells": [
    {
      "cell_type": "code",
      "metadata": {
        "colab": {
          "base_uri": "https://localhost:8080/",
          "height": 333
        },
        "id": "ideal-paint",
        "outputId": "9ece7e3d-992b-4001-cd79-b8dc586b51bd"
      },
      "source": [
        "%matplotlib inline\r\n",
        "import pandas as pd\r\n",
        "import numpy as np\r\n",
        "import matplotlib.pyplot as plt\r\n",
        "import seaborn as sns\r\n",
        "import datetime as dt\r\n",
        "import statsmodels.api\r\n",
        "\r\n",
        "df1 = pd.read_csv(r'LFB+Incident+data+from+January+2017.csv', sep = ';')\r\n",
        "df2 = pd.read_csv(r'LFB+Mobilisation+data+from+January+2017.csv', sep = ';')\r\n",
        "df3 = pd.read_csv(r'CoordoneesFireStations.csv')\r\n",
        "\r\n",
        "df = df2.merge(df1, on = 'IncidentNumber')\r\n",
        "df = df3.merge(df, on = 'DeployedFromStation_Name', suffixes=['', '_'])\r\n",
        "df = df[['IncidentNumber', 'CalYear', 'IncidentGroup','PropertyCategory', 'AddressQualifier', 'IncGeo_BoroughName', \r\n",
        "         'Easting_rounded', 'Northing_rounded', 'IncidentStationGround', 'FirstPumpArriving_DeployedFromStation',\r\n",
        "         'DateAndTimeMobilised', 'DateAndTimeMobile','DateAndTimeArrived', 'DeployedFromStation_Name','DeployedFromLocation', \r\n",
        "         'PumpOrder', 'DelayCode_Description','Latitude', 'Longitude']]\r\n",
        "\r\n",
        "df.head()"
      ],
      "id": "ideal-paint",
      "execution_count": 3,
      "outputs": [
        {
          "output_type": "stream",
          "text": [
            "/usr/local/lib/python3.6/dist-packages/IPython/core/interactiveshell.py:2718: DtypeWarning: Columns (12) have mixed types.Specify dtype option on import or set low_memory=False.\n",
            "  interactivity=interactivity, compiler=compiler, result=result)\n"
          ],
          "name": "stderr"
        },
        {
          "output_type": "execute_result",
          "data": {
            "text/html": [
              "<div>\n",
              "<style scoped>\n",
              "    .dataframe tbody tr th:only-of-type {\n",
              "        vertical-align: middle;\n",
              "    }\n",
              "\n",
              "    .dataframe tbody tr th {\n",
              "        vertical-align: top;\n",
              "    }\n",
              "\n",
              "    .dataframe thead th {\n",
              "        text-align: right;\n",
              "    }\n",
              "</style>\n",
              "<table border=\"1\" class=\"dataframe\">\n",
              "  <thead>\n",
              "    <tr style=\"text-align: right;\">\n",
              "      <th></th>\n",
              "      <th>IncidentNumber</th>\n",
              "      <th>CalYear</th>\n",
              "      <th>IncidentGroup</th>\n",
              "      <th>PropertyCategory</th>\n",
              "      <th>AddressQualifier</th>\n",
              "      <th>IncGeo_BoroughName</th>\n",
              "      <th>Easting_rounded</th>\n",
              "      <th>Northing_rounded</th>\n",
              "      <th>IncidentStationGround</th>\n",
              "      <th>FirstPumpArriving_DeployedFromStation</th>\n",
              "      <th>DateAndTimeMobilised</th>\n",
              "      <th>DateAndTimeMobile</th>\n",
              "      <th>DateAndTimeArrived</th>\n",
              "      <th>DeployedFromStation_Name</th>\n",
              "      <th>DeployedFromLocation</th>\n",
              "      <th>PumpOrder</th>\n",
              "      <th>DelayCode_Description</th>\n",
              "      <th>Latitude</th>\n",
              "      <th>Longitude</th>\n",
              "    </tr>\n",
              "  </thead>\n",
              "  <tbody>\n",
              "    <tr>\n",
              "      <th>0</th>\n",
              "      <td>000006-01012017</td>\n",
              "      <td>2017</td>\n",
              "      <td>Fire</td>\n",
              "      <td>Non Residential</td>\n",
              "      <td>Correct incident location</td>\n",
              "      <td>BARKING AND DAGENHAM</td>\n",
              "      <td>544650</td>\n",
              "      <td>184550</td>\n",
              "      <td>Barking</td>\n",
              "      <td>Barking</td>\n",
              "      <td>01/01/2017 00:07</td>\n",
              "      <td>01/01/2017 00:09</td>\n",
              "      <td>01/01/2017 00:12</td>\n",
              "      <td>Barking</td>\n",
              "      <td>Home Station</td>\n",
              "      <td>1</td>\n",
              "      <td>NaN</td>\n",
              "      <td>51.529581</td>\n",
              "      <td>0.090057</td>\n",
              "    </tr>\n",
              "    <tr>\n",
              "      <th>1</th>\n",
              "      <td>000285-01012017</td>\n",
              "      <td>2017</td>\n",
              "      <td>Fire</td>\n",
              "      <td>Dwelling</td>\n",
              "      <td>Correct incident location</td>\n",
              "      <td>BARKING AND DAGENHAM</td>\n",
              "      <td>546150</td>\n",
              "      <td>182450</td>\n",
              "      <td>Barking</td>\n",
              "      <td>Barking</td>\n",
              "      <td>01/01/2017 13:33</td>\n",
              "      <td>01/01/2017 13:35</td>\n",
              "      <td>01/01/2017 13:37</td>\n",
              "      <td>Barking</td>\n",
              "      <td>Home Station</td>\n",
              "      <td>1</td>\n",
              "      <td>NaN</td>\n",
              "      <td>51.529581</td>\n",
              "      <td>0.090057</td>\n",
              "    </tr>\n",
              "    <tr>\n",
              "      <th>2</th>\n",
              "      <td>000520-02012017</td>\n",
              "      <td>2017</td>\n",
              "      <td>Fire</td>\n",
              "      <td>Road Vehicle</td>\n",
              "      <td>In street close to gazetteer location</td>\n",
              "      <td>BARKING AND DAGENHAM</td>\n",
              "      <td>544250</td>\n",
              "      <td>184750</td>\n",
              "      <td>Barking</td>\n",
              "      <td>Barking</td>\n",
              "      <td>02/01/2017 02:45</td>\n",
              "      <td>02/01/2017 02:50</td>\n",
              "      <td>02/01/2017 02:50</td>\n",
              "      <td>Barking</td>\n",
              "      <td>Home Station</td>\n",
              "      <td>1</td>\n",
              "      <td>NaN</td>\n",
              "      <td>51.529581</td>\n",
              "      <td>0.090057</td>\n",
              "    </tr>\n",
              "    <tr>\n",
              "      <th>3</th>\n",
              "      <td>000521-02012017</td>\n",
              "      <td>2017</td>\n",
              "      <td>False Alarm</td>\n",
              "      <td>Road Vehicle</td>\n",
              "      <td>In street outside gazetteer location</td>\n",
              "      <td>REDBRIDGE</td>\n",
              "      <td>544150</td>\n",
              "      <td>184850</td>\n",
              "      <td>Barking</td>\n",
              "      <td>Barking</td>\n",
              "      <td>02/01/2017 02:45</td>\n",
              "      <td>02/01/2017 02:47</td>\n",
              "      <td>02/01/2017 02:51</td>\n",
              "      <td>Barking</td>\n",
              "      <td>Home Station</td>\n",
              "      <td>1</td>\n",
              "      <td>NaN</td>\n",
              "      <td>51.529581</td>\n",
              "      <td>0.090057</td>\n",
              "    </tr>\n",
              "    <tr>\n",
              "      <th>4</th>\n",
              "      <td>000545-02012017</td>\n",
              "      <td>2017</td>\n",
              "      <td>Fire</td>\n",
              "      <td>Outdoor Structure</td>\n",
              "      <td>On land associated with building</td>\n",
              "      <td>BARKING AND DAGENHAM</td>\n",
              "      <td>546850</td>\n",
              "      <td>183850</td>\n",
              "      <td>Barking</td>\n",
              "      <td>Barking</td>\n",
              "      <td>02/01/2017 04:46</td>\n",
              "      <td>02/01/2017 04:47</td>\n",
              "      <td>02/01/2017 04:51</td>\n",
              "      <td>Barking</td>\n",
              "      <td>NaN</td>\n",
              "      <td>1</td>\n",
              "      <td>NaN</td>\n",
              "      <td>51.529581</td>\n",
              "      <td>0.090057</td>\n",
              "    </tr>\n",
              "  </tbody>\n",
              "</table>\n",
              "</div>"
            ],
            "text/plain": [
              "    IncidentNumber  CalYear  ...   Latitude Longitude\n",
              "0  000006-01012017     2017  ...  51.529581  0.090057\n",
              "1  000285-01012017     2017  ...  51.529581  0.090057\n",
              "2  000520-02012017     2017  ...  51.529581  0.090057\n",
              "3  000521-02012017     2017  ...  51.529581  0.090057\n",
              "4  000545-02012017     2017  ...  51.529581  0.090057\n",
              "\n",
              "[5 rows x 19 columns]"
            ]
          },
          "metadata": {
            "tags": []
          },
          "execution_count": 3
        }
      ]
    },
    {
      "cell_type": "code",
      "metadata": {
        "id": "6BrSGunK0v3v"
      },
      "source": [
        "#  Création de la variable cible 'ResponseTimeMinute'\r\n",
        "df['DateAndTimeMobilised'] = pd.to_datetime(df['DateAndTimeMobilised'])\r\n",
        "df['DateAndTimeArrived'] = pd.to_datetime(df['DateAndTimeArrived'])\r\n",
        "df['ResponseTimeMinute'] = (df['DateAndTimeArrived'] - df['DateAndTimeMobilised']).dt.total_seconds()/60\r\n",
        "# df.head()"
      ],
      "id": "6BrSGunK0v3v",
      "execution_count": 4,
      "outputs": []
    },
    {
      "cell_type": "code",
      "metadata": {
        "id": "YLz-zo6d0zPR"
      },
      "source": [
        "# Nettoyage de la variable cible\r\n",
        "\r\n",
        "# On cherche les temps de réponse négatifs\r\n",
        "# df_new = df[df['ResponseTimeMinute'] < 0] # Il y a 128 incidents concernés (0.02 % des données)\r\n",
        "\r\n",
        "# On cherche les temps de réponse aberrants Ex : ici supérieurs à 1h (60 min)\r\n",
        "# df_new = df[df['ResponseTimeMinute'] > 60] # Il y a 679 incidents concernés (0.11 % des données)\r\n",
        "\r\n",
        "# On supprime les incidents pour lesquels le temps de réponse est négatif ou supérieur à 1h (60 min)\r\n",
        "df = df[(df['ResponseTimeMinute'] > 0) & (df['ResponseTimeMinute'] < 60)]\r\n",
        "# df.info()\r\n",
        "# df['ResponseTimeMinute'].describe()"
      ],
      "id": "YLz-zo6d0zPR",
      "execution_count": 5,
      "outputs": []
    },
    {
      "cell_type": "code",
      "metadata": {
        "id": "DNIYFjOU00Av"
      },
      "source": [
        "# Création des variables 'HourMobilised', 'WeekdayMobilised', 'MonthMobilised'\r\n",
        "df['HourMobilised'] = pd.to_datetime(df['DateAndTimeMobilised']).dt.hour\r\n",
        "df['WeekdayMobilised'] = pd.to_datetime(df['DateAndTimeMobilised']).dt.weekday\r\n",
        "df['MonthMobilised'] = pd.to_datetime(df['DateAndTimeMobilised']).dt.month\r\n",
        "\r\n",
        "# Création de la variable 'Time_preparation'\r\n",
        "df['DateAndTimeMobile'] = pd.to_datetime(df['DateAndTimeMobile'])\r\n",
        "df[\"Time_Mobilised\"] = pd.to_datetime(df[\"DateAndTimeMobilised\"])\r\n",
        "df[\"Time_preparation\"] = (df['DateAndTimeMobile'] - df['DateAndTimeMobilised']).dt.total_seconds()/60\r\n",
        "\r\n",
        "# df.head()"
      ],
      "id": "DNIYFjOU00Av",
      "execution_count": 6,
      "outputs": []
    },
    {
      "cell_type": "code",
      "metadata": {
        "id": "XgJcq_EZxwv9"
      },
      "source": [
        "# Création de la variable 'CityCenter'\r\n",
        "CityCenter = ['ISLINGTON', 'WESTMINSTER', 'HARINGEY', 'SOUTHWARK', 'TOWER HAMLETS', 'HACKNEY', 'NEWHAM', 'LAMBETH', 'CAMDEN',\r\n",
        "               'WANDSWORTH', 'LEWISHAM', 'CITY OF LONDON', 'KENSINGTON AND CHELSEA', 'HAMMERSMITH AND FULHAM']\r\n",
        "\r\n",
        "Peripherie = ['GREENWICH', 'BARKING AND DAGENHAM', 'EALING', 'BRENT', 'REDBRIDGE', 'CROYDON', 'HARROW', 'ENFIELD', 'BROMLEY',\r\n",
        "              'BEXLEY', 'HAVERING', 'MERTON', 'HOUNSLOW', 'BARNET', 'HILLINGDON', 'SUTTON', 'WALTHAM FOREST', \r\n",
        "              'KINGSTON UPON THAMES', 'RICHMOND UPON THAMES']\r\n",
        "\r\n",
        "df['CityCenter'] = df['IncGeo_BoroughName'].apply(lambda x: x in CityCenter)\r\n",
        "\r\n",
        "# df.head()"
      ],
      "id": "XgJcq_EZxwv9",
      "execution_count": 7,
      "outputs": []
    },
    {
      "cell_type": "code",
      "metadata": {
        "colab": {
          "base_uri": "https://localhost:8080/"
        },
        "id": "Wx5jNxxz6x9t",
        "outputId": "63cb8a12-e2a4-43e5-91f3-6779d8a7aca7"
      },
      "source": [
        "# On recherche les données manquantes\r\n",
        "df.isna().sum()\r\n",
        "\r\n",
        "# La variable DelayCode_Description doit être supprimée car comporte trop de données manquantes.\r\n",
        "df = df.drop('DelayCode_Description', axis = 1)\r\n",
        "\r\n",
        "# On supprime les quelques données manquantes restantes\r\n",
        "df = df.dropna(axis = 0, how = 'any')\r\n",
        "df.isna().sum()"
      ],
      "id": "Wx5jNxxz6x9t",
      "execution_count": 8,
      "outputs": [
        {
          "output_type": "execute_result",
          "data": {
            "text/plain": [
              "IncidentNumber                           0\n",
              "CalYear                                  0\n",
              "IncidentGroup                            0\n",
              "PropertyCategory                         0\n",
              "AddressQualifier                         0\n",
              "IncGeo_BoroughName                       0\n",
              "Easting_rounded                          0\n",
              "Northing_rounded                         0\n",
              "IncidentStationGround                    0\n",
              "FirstPumpArriving_DeployedFromStation    0\n",
              "DateAndTimeMobilised                     0\n",
              "DateAndTimeMobile                        0\n",
              "DateAndTimeArrived                       0\n",
              "DeployedFromStation_Name                 0\n",
              "DeployedFromLocation                     0\n",
              "PumpOrder                                0\n",
              "Latitude                                 0\n",
              "Longitude                                0\n",
              "ResponseTimeMinute                       0\n",
              "HourMobilised                            0\n",
              "WeekdayMobilised                         0\n",
              "MonthMobilised                           0\n",
              "Time_Mobilised                           0\n",
              "Time_preparation                         0\n",
              "CityCenter                               0\n",
              "dtype: int64"
            ]
          },
          "metadata": {
            "tags": []
          },
          "execution_count": 8
        }
      ]
    },
    {
      "cell_type": "code",
      "metadata": {
        "id": "w_w8PQ_11soK"
      },
      "source": [
        "# On exporte notre DataFrame au format csv\r\n",
        "df.to_csv('Preprocessing.csv',sep=';', index = False) "
      ],
      "id": "w_w8PQ_11soK",
      "execution_count": 9,
      "outputs": []
    },
    {
      "cell_type": "code",
      "metadata": {
        "id": "ETu8ZFBULuEJ"
      },
      "source": [
        ""
      ],
      "id": "ETu8ZFBULuEJ",
      "execution_count": 9,
      "outputs": []
    }
  ]
}