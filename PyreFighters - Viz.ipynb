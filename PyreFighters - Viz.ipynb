{
  "cells":[
    {
      "cell_type":"code",
      "source":[
        "%matplotlib inline\n",
        "import pandas as pd\n",
        "import numpy as np\n",
        "import matplotlib.pyplot as plt\n",
        "import seaborn as sns\n",
        "import datetime as dt\n",
        "import statsmodels.api\n",
        "\n",
        "df1 = pd.read_csv(r'LFB+Incident+data+from+January+2017.csv', sep = ';')\n",
        "df2 = pd.read_csv(r'LFB+Mobilisation+data+from+January+2017.csv', sep = ';')\n",
        "df3 = pd.read_csv(r'CoordonéesFireStations.csv')\n",
        "\n",
        "df = df2.merge(df1, on = 'IncidentNumber')\n",
        "df = df3.merge(df, on = 'DeployedFromStation_Name', suffixes=['', '_'])\n",
        "df = df[['IncidentNumber', 'CalYear', 'IncidentGroup','PropertyCategory', 'AddressQualifier', 'IncGeo_BoroughName', \n",
        "         'Easting_rounded', 'Northing_rounded', 'IncidentStationGround', 'FirstPumpArriving_DeployedFromStation',\n",
        "         'DateAndTimeMobilised', 'DateAndTimeMobile','DateAndTimeArrived', 'DeployedFromStation_Name','DeployedFromLocation', \n",
        "         'PumpOrder', 'DelayCode_Description','Latitude', 'Longitude']]\n",
        "\n",
        "\n",
        "#  Création de la variable cible 'ResponseTimeMinute'\n",
        "df['DateAndTimeMobilised'] = pd.to_datetime(df['DateAndTimeMobilised'])\n",
        "df['DateAndTimeArrived'] = pd.to_datetime(df['DateAndTimeArrived'])\n",
        "\n",
        "# Nettoyage de la variable cible\n",
        "# On supprime les incidents pour lesquels le temps de réponse est négatif ou supérieur à 1h (60 min)\n",
        "df['ResponseTimeMinute'] = (df['DateAndTimeArrived'] - df['DateAndTimeMobilised']).dt.total_seconds()\/60\n",
        "df = df[(df['ResponseTimeMinute'] > 0) & (df['ResponseTimeMinute'] < 60)]\n",
        "\n",
        "# Création des variables 'HourMobilised', 'WeekdayMobilised', 'MonthMobilised'\n",
        "df['HourMobilised'] = pd.to_datetime(df['DateAndTimeMobilised']).dt.hour\n",
        "df['WeekdayMobilised'] = pd.to_datetime(df['DateAndTimeMobilised']).dt.weekday\n",
        "df['MonthMobilised'] = pd.to_datetime(df['DateAndTimeMobilised']).dt.month\n",
        "\n",
        "df.head(2)"
      ],
      "execution_count":2,
      "outputs":[
        {
          "name":"stderr",
          "text":[
            "\/opt\/anaconda3\/envs\/datalore-user\/lib\/python3.7\/site-packages\/IPython\/core\/interactiveshell.py:3156: DtypeWarning: Columns (12) have mixed types.Specify dtype option on import or set low_memory=False.\n",
            "  interactivity=interactivity, compiler=compiler, result=result)\n"
          ],
          "output_type":"stream"
        }
      ],
      "metadata":{
        
      }
    },
    {
      "cell_type":"code",
      "source":[
        "# Visualisation du temps de réponse\n",
        "plt.figure(figsize=(10,5))\n",
        "plt.hist(df['ResponseTimeMinute'], density = True, rwidth = 0.6, range = (0,20))\n",
        "plt.xlabel('Temps de réponse (min)')\n",
        "plt.ylabel('Nombre d\\'incidents')\n",
        "plt.title('Distribution du nombre d\\'incidents en fonction du temps de réponse (min)');\n",
        "# Le temps de d'intervention des pompiers est majoritairement compris entre 3 et 8 min. La prédiction du temps de réponse doit donc être de l'ordre de la minute."
      ],
      "execution_count":0,
      "outputs":[
        
      ],
      "metadata":{
        
      }
    },
    {
      "cell_type":"code",
      "source":[
        "# Visualisation du temps de réponse en fonction de l'heure de la journée\n",
        "\n",
        "sns.catplot(x = 'HourMobilised', y = 'ResponseTimeMinute', kind = 'bar', data = df);\n",
        "plt.ylim(5,6)\n",
        "\n",
        "# Relation avec la variable cible\n",
        "\n",
        "# Hypothèse HourMobilised n'influe pas sur ResponseTimeMinute\n",
        "result = statsmodels.formula.api.ols('ResponseTimeMinute ~ HourMobilised', data = df).fit()\n",
        "table = statsmodels.api.stats.anova_lm(result)\n",
        "table\n",
        "# Conclusion : la p-value (PR(>F)) est inférieure à 5% donc on rejette l'hypothèse. Les 2 variables ne sont pas indépendantes.\n",
        "# Le temps de réponse le plus faible est atteint à 8h, ce temps augmente jusqu'à 14h pour atteindre sa valeur maximale puis diminue jusqu'à 22h pour réaugmenter et \n",
        "# atteindre un second pic vers 5h du matin.\n",
        "# Le temps de réponse maximum est atteint à 14h, ce temps de réponse diminue jusqu'à 22h."
      ],
      "execution_count":0,
      "outputs":[
        
      ],
      "metadata":{
        
      }
    },
    {
      "cell_type":"code",
      "source":[
        "incident_per_hour = df.groupby('HourMobilised', as_index = False).agg({'IncidentNumber':'count'})\n",
        "# incident_per_hour\n",
        "plt.figure(figsize=(20,10))\n",
        "plt.bar(incident_per_hour['HourMobilised'],incident_per_hour['IncidentNumber'])\n",
        "plt.xlabel('Heure')\n",
        "plt.ylabel('Nombre d\\'incidents')\n",
        "plt.title('Distribution du nombre d\\'incidents en fonction de l\\'heure');"
      ],
      "execution_count":0,
      "outputs":[
        
      ],
      "metadata":{
        
      }
    },
    {
      "cell_type":"code",
      "source":[
        "# Visualisation du temps de réponse en fonction du jour de la semaine\n",
        "\n",
        "sns.catplot(x = 'WeekdayMobilised', y = 'ResponseTimeMinute', kind = 'bar', data = df);\n",
        "plt.ylim(5,6)\n",
        "\n",
        "# Relation avec la variable cible\n",
        "\n",
        "# Hypothèse WeekdayMobilised n'influe pas sur ResponseTimeMinute\n",
        "result = statsmodels.formula.api.ols('ResponseTimeMinute ~ WeekdayMobilised', data = df).fit()\n",
        "table = statsmodels.api.stats.anova_lm(result)\n",
        "table\n",
        "# Conclusion : la p-value (PR(>F)) est supérieure à 5% donc on n'accepte pas l'hypothèse nulle. Les 2 variables sont indépendantes."
      ],
      "execution_count":0,
      "outputs":[
        
      ],
      "metadata":{
        
      }
    },
    {
      "cell_type":"code",
      "source":[
        "# Visualisation du temps de réponse en fonction de l'heure de la journée\n",
        "\n",
        "sns.catplot(x = 'MonthMobilised', y = 'ResponseTimeMinute', kind = 'bar', data = df);\n",
        "plt.ylim(5,6)\n",
        "# Relation avec la variable cible\n",
        "\n",
        "# Hypothèse MonthMobilised n'influe pas sur ResponseTimeMinute\n",
        "result = statsmodels.formula.api.ols('ResponseTimeMinute ~ MonthMobilised', data = df).fit()\n",
        "table = statsmodels.api.stats.anova_lm(result)\n",
        "table\n",
        "# Conclusion : la p-value (PR(>F)) est supérieure à 5% donc on valide l'hypothèse. Les 2 variables sont indépendantes."
      ],
      "execution_count":0,
      "outputs":[
        
      ],
      "metadata":{
        
      }
    },
    {
      "cell_type":"code",
      "source":[
        "# Visualisation du temps de réponse en fonction de l'heure de la journée et par année\n",
        "\n",
        "sns.catplot(x = 'HourMobilised', y = 'ResponseTimeMinute', kind = 'bar', hue = 'CalYear', data = df);\n",
        "plt.ylim(5,6)\n",
        "\n",
        "# On observe qu'en majorité le temps de réponse le plus faible était en 2020 à chaque moment de la journée."
      ],
      "execution_count":0,
      "outputs":[
        
      ],
      "metadata":{
        
      }
    },
    {
      "cell_type":"code",
      "source":[
        "# Visualisation du temps de réponse en fonction du mois et par année\n",
        "\n",
        "sns.catplot(x = 'MonthMobilised', y = 'ResponseTimeMinute', kind = 'bar', hue = 'CalYear', data = df);\n",
        "plt.ylim(5,6.5)\n",
        "\n",
        "# On observe que le temps de réponse moyen est systématiquement plus faible à chaque mois de l'année en 2020.\n",
        "# On observe également que la différence est plus importante pour les mois d'avril, mai et novembre, mois de l'année pendant\n",
        "# lesquels la ville de Londres était complètement confinée."
      ],
      "execution_count":0,
      "outputs":[
        
      ],
      "metadata":{
        
      }
    },
    {
      "cell_type":"code",
      "source":[
        "# Visualisation du temps de réponse en fonction du type de propriété\n",
        "viz = sns.catplot(x = 'PropertyCategory', y = 'ResponseTimeMinute', kind = 'bar', data = df)\n",
        "viz.set_xticklabels(rotation=75)\n",
        "plt.ylim(5,8)\n",
        "# Relation avec la variable cible\n",
        "\n",
        "# Hypothèse PropertyCategory n'influe pas sur ResponseTimeMinute\n",
        "result = statsmodels.formula.api.ols('ResponseTimeMinute ~ PropertyCategory', data = df).fit()\n",
        "table = statsmodels.api.stats.anova_lm(result)\n",
        "table\n",
        "# Conclusion : la p-value (PR(>F)) est inférieure à 5% donc on rejette l'hypothèse. Les 2 variables ne sont pas indépendantes.\n",
        "# On observe que lorsqu'un incident a lieu dans un bateau ou un avion, le temps de réponse est plus élevé."
      ],
      "execution_count":0,
      "outputs":[
        
      ],
      "metadata":{
        
      }
    },
    {
      "cell_type":"code",
      "source":[
        "# Visualisation du temps de réponse en fonction de l'exactitude de l'adresse\n",
        "viz = sns.catplot(x = 'AddressQualifier', y = 'ResponseTimeMinute', kind = 'bar', data = df)\n",
        "viz.set_xticklabels(rotation=90)\n",
        "plt.ylim(5,10)\n",
        "\n",
        "# Relation avec la variable cible\n",
        "\n",
        "# Hypothèse AddressQualifier n'influe pas sur ResponseTimeMinute\n",
        "result = statsmodels.formula.api.ols('ResponseTimeMinute ~ AddressQualifier', data = df).fit()\n",
        "table = statsmodels.api.stats.anova_lm(result)\n",
        "table\n",
        "# Conclusion : la p-value (PR(>F)) est inférieure à 5% donc on rejette l'hypothèse. Les 2 variables ne sont pas indépendantes.\n",
        "# On observe que le temps de réponse le plus faible est obtenue lorsque l'adresse est correcte.\n",
        "# Par ailleurs, le temps de réponse le plus long est obtenu lorsque l'incident se trouve sur une autoroute ou une route\n",
        "# surélevée. En effet, il est plus difficile d'indiquer une localisation précise sur ce types de lieu."
      ],
      "execution_count":0,
      "outputs":[
        
      ],
      "metadata":{
        
      }
    },
    {
      "cell_type":"code",
      "source":[
        "# Visualisation du temps de réponse en fonction de l'arrondissement où l'incident a eu lieu\n",
        "viz = sns.catplot(x = 'IncGeo_BoroughName', y = 'ResponseTimeMinute', kind = 'bar', data = df)\n",
        "viz.set_xticklabels(rotation=90)\n",
        "plt.figure(figsize=(20,10))\n",
        "plt.ylim(5,7)\n",
        "\n",
        "# Relation avec la variable cible\n",
        "\n",
        "# Hypothèse IncGeo_BoroughName n'influe pas sur ResponseTimeMinute\n",
        "result = statsmodels.formula.api.ols('ResponseTimeMinute ~ IncGeo_BoroughName', data = df).fit()\n",
        "table = statsmodels.api.stats.anova_lm(result)\n",
        "table\n",
        "# Conclusion : la p-value (PR(>F)) est inférieure à 5% donc on rejette l'hypothèse. Les 2 variables ne sont pas indépendantes.\n",
        "# On observe qu'il y a une différence de temps d'intervention en fonction des arrondissements."
      ],
      "execution_count":0,
      "outputs":[
        
      ],
      "metadata":{
        
      }
    },
    {
      "cell_type":"code",
      "source":[
        "# Visualisation du temps de réponse en fonction de la localisation de l'incident centre ville\/périphérie\n",
        "CityCenter = ['ISLINGTON', 'WESTMINSTER', 'HARINGEY', 'SOUTHWARK', 'TOWER HAMLETS', 'HACKNEY', 'NEWHAM', 'LAMBETH', 'CAMDEN',\n",
        "               'WANDSWORTH', 'LEWISHAM', 'CITY OF LONDON', 'KENSINGTON AND CHELSEA', 'HAMMERSMITH AND FULHAM']\n",
        "\n",
        "Peripherie = ['GREENWICH', 'BARKING AND DAGENHAM', 'EALING', 'BRENT', 'REDBRIDGE', 'CROYDON', 'HARROW', 'ENFIELD', 'BROMLEY',\n",
        "              'BEXLEY', 'HAVERING', 'MERTON', 'HOUNSLOW', 'BARNET', 'HILLINGDON', 'SUTTON', 'WALTHAM FOREST', \n",
        "              'KINGSTON UPON THAMES', 'RICHMOND UPON THAMES']\n",
        "\n",
        "# print(df['IncGeo_BoroughName'][0])\n",
        "\n",
        "df['CityCenter'] = df['IncGeo_BoroughName'].apply(lambda x: x in CityCenter)\n",
        "# df.head()\n",
        "\n",
        "viz = sns.catplot(x = 'CityCenter', y = 'ResponseTimeMinute', kind = 'bar', data = df)\n",
        "viz.set_xticklabels(rotation=90);\n",
        "\n",
        "# Relation avec la variable cible\n",
        "\n",
        "# Hypothèse CityCenter n'influe pas sur ResponseTimeMinute\n",
        "result = statsmodels.formula.api.ols('ResponseTimeMinute ~ CityCenter', data = df).fit()\n",
        "table = statsmodels.api.stats.anova_lm(result)\n",
        "table\n",
        "# Conclusion : la p-value (PR(>F)) est inférieure à 5% donc on rejette l'hypothèse. Les 2 variables ne sont pas indépendantes.\n",
        "# On observe que le temps de réponse est plus faible lorsque l'incident a lieu en centre ville."
      ],
      "execution_count":0,
      "outputs":[
        
      ],
      "metadata":{
        
      }
    },
    {
      "cell_type":"code",
      "source":[
        "# Visualisation du temps de réponse en fonction de la caserne responsable de la zone d'incident\n",
        "viz = sns.catplot(x = 'IncidentStationGround', y = 'ResponseTimeMinute', kind = 'bar', data = df)\n",
        "viz.set_xticklabels(rotation=90)\n",
        "plt.figure(figsize=(20,10))\n",
        "plt.ylim(4,9)\n",
        "\n",
        "# Relation avec la variable cible\n",
        "\n",
        "# Hypothèse 'IncidentStationGround' n'influe pas sur ResponseTimeMinute\n",
        "result = statsmodels.formula.api.ols('ResponseTimeMinute ~ IncidentStationGround', data = df).fit()\n",
        "table = statsmodels.api.stats.anova_lm(result)\n",
        "table\n",
        "# Conclusion : la p-value (PR(>F)) est inférieure à 5% donc on rejette l'hypothèse. Les 2 variables ne sont pas indépendantes."
      ],
      "execution_count":0,
      "outputs":[
        
      ],
      "metadata":{
        
      }
    },
    {
      "cell_type":"code",
      "source":[
        "# Visualisation du temps de réponse en fonction du 1er camion arrivé sur les lieux\n",
        "viz = sns.catplot(x = 'FirstPumpArriving_DeployedFromStation', y = 'ResponseTimeMinute', kind = 'bar', data = df)\n",
        "viz.set_xticklabels(rotation=90)\n",
        "plt.figure(figsize=(20,10))\n",
        "\n",
        "# Relation avec la variable cible\n",
        "\n",
        "# Hypothèse 'FirstPumpArriving_DeployedFromStation' n'influe pas sur ResponseTimeMinute\n",
        "result = statsmodels.formula.api.ols('ResponseTimeMinute ~ FirstPumpArriving_DeployedFromStation', data = df).fit()\n",
        "table = statsmodels.api.stats.anova_lm(result)\n",
        "table\n",
        "# Conclusion : la p-value (PR(>F)) est inférieure à 5% donc on rejette l'hypothèse. Les 2 variables ne sont pas indépendantes."
      ],
      "execution_count":0,
      "outputs":[
        
      ],
      "metadata":{
        
      }
    },
    {
      "cell_type":"code",
      "source":[
        "# Visualisation du temps de réponse en fonction de la caserne déployée\n",
        "viz = sns.catplot(x = 'DeployedFromStation_Name', y = 'ResponseTimeMinute', kind = 'bar', data = df)\n",
        "viz.set_xticklabels(rotation=90)\n",
        "plt.figure(figsize=(20,10))\n",
        "# Relation avec la variable cible\n",
        "\n",
        "# Hypothèse 'DeployedFromStation_Name' n'influe pas sur ResponseTimeMinute\n",
        "result = statsmodels.formula.api.ols('ResponseTimeMinute ~ DeployedFromStation_Name', data = df).fit()\n",
        "table = statsmodels.api.stats.anova_lm(result)\n",
        "table\n",
        "# Conclusion : la p-value (PR(>F)) est inférieure à 5% donc on rejette l'hypothèse. Les 2 variables ne sont pas indépendantes."
      ],
      "execution_count":0,
      "outputs":[
        
      ],
      "metadata":{
        
      }
    },
    {
      "cell_type":"code",
      "source":[
        "# Visualisation du temps de réponse en fonction du lieu de déploiement de la brigade\n",
        "viz = sns.catplot(x = 'DeployedFromLocation', y = 'ResponseTimeMinute', kind = 'bar', data = df)\n",
        "viz.set_xticklabels(rotation=90)\n",
        "\n",
        "# Relation avec la variable cible\n",
        "\n",
        "# Hypothèse 'DeployedFromLocation' n'influe pas sur ResponseTimeMinute\n",
        "result = statsmodels.formula.api.ols('ResponseTimeMinute ~ DeployedFromLocation', data = df).fit()\n",
        "table = statsmodels.api.stats.anova_lm(result)\n",
        "table\n",
        "# Conclusion : la p-value (PR(>F)) est inférieure à 5% donc on rejette l'hypothèse. Les 2 variables ne sont pas indépendantes.\n",
        "# On observe que le temps de réponse est plus faible lorsque la brigade se trouve à leur caserne lors de l'appel (97% des cas)."
      ],
      "execution_count":0,
      "outputs":[
        
      ],
      "metadata":{
        
      }
    },
    {
      "cell_type":"code",
      "source":[
        "# Visualisation du temps de réponse en fonction de la raison de retard\n",
        "viz = sns.catplot(x = 'DelayCode_Description', y = 'ResponseTimeMinute', kind = 'bar', data = df)\n",
        "viz.set_xticklabels(rotation=90)\n",
        "plt.ylim(7,10)\n",
        "\n",
        "# Relation avec la variable cible\n",
        "\n",
        "# Hypothèse 'DelayCode_Description' n'influe pas sur ResponseTimeMinute\n",
        "result = statsmodels.formula.api.ols('ResponseTimeMinute ~ DelayCode_Description', data = df).fit()\n",
        "table = statsmodels.api.stats.anova_lm(result)\n",
        "table\n",
        "# Conclusion : la p-value (PR(>F)) est inférieure à 5% donc on rejette l'hypothèse. Les 2 variables ne sont pas indépendantes.\n",
        "# Lorsqu'un retard est déclaré sur l'intervention, la raison qui provoque le retard le plus important est une adresse \n",
        "# incomplète ou incorrecte.\n",
        "# Il est donc primordial d'obtenir la localisation la plus exacte possible de la part de la personne qui appelle."
      ],
      "execution_count":0,
      "outputs":[
        
      ],
      "metadata":{
        
      }
    },
    {
      "cell_type":"code",
      "source":[
        "# Visualisation du temps de réponse en fonction du type d'incident\n",
        "viz = sns.catplot(x = 'IncidentGroup', y = 'ResponseTimeMinute', kind = 'bar', data = df)\n",
        "viz.set_xticklabels(rotation=90)\n",
        "plt.ylim(5,7)\n",
        "\n",
        "# Relation avec la variable cible\n",
        "\n",
        "# Hypothèse 'IncidentGroup' n'influe pas sur ResponseTimeMinute\n",
        "result = statsmodels.formula.api.ols('ResponseTimeMinute ~ IncidentGroup', data = df).fit()\n",
        "table = statsmodels.api.stats.anova_lm(result)\n",
        "table\n",
        "# Conclusion : la p-value (PR(>F)) est inférieure à 5% donc on rejette l'hypothèse. Les 2 variables ne sont pas indépendantes.\n",
        "# On observe que le temps de réponse est plus long lorsqu'il s'agit d'un incendie."
      ],
      "execution_count":0,
      "outputs":[
        
      ],
      "metadata":{
        
      }
    },
    {
      "cell_type":"code",
      "source":[
        "# Visualisation du temps de réponse en fonction du nombre de camions demandés\n",
        "viz = sns.catplot(x = 'PumpOrder', y = 'ResponseTimeMinute', kind = 'bar', data = df)\n",
        "viz.set_xticklabels(rotation=90)\n",
        "\n",
        "# Relation avec la variable cible\n",
        "\n",
        "# Hypothèse 'PumpOrder' n'influe pas sur ResponseTimeMinute\n",
        "result = statsmodels.formula.api.ols('ResponseTimeMinute ~ PumpOrder', data = df).fit()\n",
        "table = statsmodels.api.stats.anova_lm(result)\n",
        "table\n",
        "# Conclusion : la p-value (PR(>F)) est inférieure à 5% donc on rejette l'hypothèse. Les 2 variables ne sont pas indépendantes.\n",
        "# On observe que plus le nombre de camions demandés est grand, plus le temps de réponse est important.\n",
        "# Limites : pour la grande majorité des incidents, seuls 1 ou 2 camions interviennent (Ex : 1 seul incident avec 11 camions)"
      ],
      "execution_count":0,
      "outputs":[
        
      ],
      "metadata":{
        
      }
    }
  ],
  "metadata":{
    
  },
  "nbformat":4,
  "nbformat_minor":0
}