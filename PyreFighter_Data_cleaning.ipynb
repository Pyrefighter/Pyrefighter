{
  "nbformat": 4,
  "nbformat_minor": 5,
  "metadata": {
    "kernelspec": {
      "display_name": "Python 3",
      "language": "python",
      "name": "python3"
    },
    "language_info": {
      "codemirror_mode": {
        "name": "ipython",
        "version": 3
      },
      "file_extension": ".py",
      "mimetype": "text/x-python",
      "name": "python",
      "nbconvert_exporter": "python",
      "pygments_lexer": "ipython3",
      "version": "3.8.5"
    },
    "colab": {
      "name": "PyreFighter - Data cleaning.ipynb",
      "provenance": [],
      "collapsed_sections": []
    }
  },
  "cells": [
    {
      "cell_type": "code",
      "metadata": {
        "colab": {
          "base_uri": "https://localhost:8080/"
        },
        "id": "ideal-paint",
        "outputId": "a9f7a788-27aa-4ae9-f882-45c50de65105"
      },
      "source": [
        "# Importation des packages\r\n",
        "import pandas as pd\r\n",
        "import datetime as dt\r\n",
        "\r\n",
        "# Lecture et merge des DataFrame\r\n",
        "df1 = pd.read_csv(r'LFB+Incident+data+from+January+2017.csv', sep = ';')\r\n",
        "df2 = pd.read_csv(r'LFB+Mobilisation+data+from+January+2017.csv', sep = ';')\r\n",
        "df = df2.merge(df1, on = 'IncidentNumber')"
      ],
      "id": "ideal-paint",
      "execution_count": null,
      "outputs": [
        {
          "output_type": "stream",
          "text": [
            "/usr/local/lib/python3.7/dist-packages/IPython/core/interactiveshell.py:2718: DtypeWarning: Columns (12) have mixed types.Specify dtype option on import or set low_memory=False.\n",
            "  interactivity=interactivity, compiler=compiler, result=result)\n"
          ],
          "name": "stderr"
        }
      ]
    },
    {
      "cell_type": "code",
      "metadata": {
        "id": "6BrSGunK0v3v"
      },
      "source": [
        "#  Création de la variable cible 'ResponseTimeMinute'\r\n",
        "df['DateAndTimeMobilised'] = pd.to_datetime(df['DateAndTimeMobilised'])\r\n",
        "df['DateAndTimeArrived'] = pd.to_datetime(df['DateAndTimeArrived'])\r\n",
        "df['ResponseTimeMinute'] = (df['DateAndTimeArrived'] - df['DateAndTimeMobilised']).dt.total_seconds()/60\r\n",
        "\r\n",
        "# Création des variables 'HourMobilised', 'WeekdayMobilised', 'MonthMobilised'\r\n",
        "df['HourMobilised'] = pd.to_datetime(df['DateAndTimeMobilised']).dt.hour\r\n",
        "df['WeekdayMobilised'] = pd.to_datetime(df['DateAndTimeMobilised']).dt.weekday\r\n",
        "df['MonthMobilised'] = pd.to_datetime(df['DateAndTimeMobilised']).dt.month\r\n",
        "\r\n",
        "# Création de la variable 'CityCenter'\r\n",
        "CityCenter = ['ISLINGTON', 'WESTMINSTER', 'HARINGEY', 'SOUTHWARK', 'TOWER HAMLETS', 'HACKNEY', 'NEWHAM', 'LAMBETH', 'CAMDEN',\r\n",
        "               'WANDSWORTH', 'LEWISHAM', 'CITY OF LONDON', 'KENSINGTON AND CHELSEA', 'HAMMERSMITH AND FULHAM']\r\n",
        "\r\n",
        "Peripherie = ['GREENWICH', 'BARKING AND DAGENHAM', 'EALING', 'BRENT', 'REDBRIDGE', 'CROYDON', 'HARROW', 'ENFIELD', 'BROMLEY',\r\n",
        "              'BEXLEY', 'HAVERING', 'MERTON', 'HOUNSLOW', 'BARNET', 'HILLINGDON', 'SUTTON', 'WALTHAM FOREST', \r\n",
        "              'KINGSTON UPON THAMES', 'RICHMOND UPON THAMES']\r\n",
        "\r\n",
        "df['CityCenter'] = df['IncGeo_BoroughName'].apply(lambda x: x in CityCenter)"
      ],
      "id": "6BrSGunK0v3v",
      "execution_count": null,
      "outputs": []
    },
    {
      "cell_type": "code",
      "metadata": {
        "id": "YLz-zo6d0zPR"
      },
      "source": [
        "# Nettoyage de la variable cible\r\n",
        "\r\n",
        "# On cherche les temps de réponse négatifs\r\n",
        "# df_new = df[df['ResponseTimeMinute'] < 0] # Il y a 128 incidents concernés (0.02 % des données)\r\n",
        "\r\n",
        "# On cherche les temps de réponse aberrants Ex : ici supérieurs à 1h (60 min)\r\n",
        "# df_new = df[df['ResponseTimeMinute'] > 60] # Il y a 679 incidents concernés (0.11 % des données)\r\n",
        "\r\n",
        "# On supprime les incidents pour lesquels le temps de réponse est négatif ou supérieur à 1h (60 min)\r\n",
        "df = df[(df['ResponseTimeMinute'] > 0) & (df['ResponseTimeMinute'] < 60)]"
      ],
      "id": "YLz-zo6d0zPR",
      "execution_count": null,
      "outputs": []
    },
    {
      "cell_type": "code",
      "metadata": {
        "id": "DNIYFjOU00Av",
        "colab": {
          "base_uri": "https://localhost:8080/",
          "height": 316
        },
        "outputId": "c6863b86-ad26-4bc1-ee08-fe61989e3536"
      },
      "source": [
        "# Sélection des variables d'intérêt\r\n",
        "\r\n",
        "df = df[['IncidentNumber',\r\n",
        "         'ResponseTimeMinute',\r\n",
        "         'PropertyCategory',\r\n",
        "         'AddressQualifier',\r\n",
        "         'IncGeo_BoroughName',\r\n",
        "         'IncidentStationGround',\r\n",
        "         'FirstPumpArriving_DeployedFromStation',\r\n",
        "         'DeployedFromStation_Name',\r\n",
        "         'DeployedFromLocation',\r\n",
        "         'HourMobilised',\r\n",
        "         'WeekdayMobilised',\r\n",
        "         'MonthMobilised',\r\n",
        "         'CityCenter',\r\n",
        "         'PumpOrder',\r\n",
        "         'CalYear']]\r\n",
        "\r\n",
        "df.head()"
      ],
      "id": "DNIYFjOU00Av",
      "execution_count": null,
      "outputs": [
        {
          "output_type": "execute_result",
          "data": {
            "text/html": [
              "<div>\n",
              "<style scoped>\n",
              "    .dataframe tbody tr th:only-of-type {\n",
              "        vertical-align: middle;\n",
              "    }\n",
              "\n",
              "    .dataframe tbody tr th {\n",
              "        vertical-align: top;\n",
              "    }\n",
              "\n",
              "    .dataframe thead th {\n",
              "        text-align: right;\n",
              "    }\n",
              "</style>\n",
              "<table border=\"1\" class=\"dataframe\">\n",
              "  <thead>\n",
              "    <tr style=\"text-align: right;\">\n",
              "      <th></th>\n",
              "      <th>IncidentNumber</th>\n",
              "      <th>ResponseTimeMinute</th>\n",
              "      <th>PropertyCategory</th>\n",
              "      <th>AddressQualifier</th>\n",
              "      <th>IncGeo_BoroughName</th>\n",
              "      <th>IncidentStationGround</th>\n",
              "      <th>FirstPumpArriving_DeployedFromStation</th>\n",
              "      <th>DeployedFromStation_Name</th>\n",
              "      <th>DeployedFromLocation</th>\n",
              "      <th>HourMobilised</th>\n",
              "      <th>WeekdayMobilised</th>\n",
              "      <th>MonthMobilised</th>\n",
              "      <th>CityCenter</th>\n",
              "      <th>PumpOrder</th>\n",
              "      <th>CalYear</th>\n",
              "    </tr>\n",
              "  </thead>\n",
              "  <tbody>\n",
              "    <tr>\n",
              "      <th>0</th>\n",
              "      <td>000004-01012017</td>\n",
              "      <td>14.0</td>\n",
              "      <td>Non Residential</td>\n",
              "      <td>Nearby address - street not listed in gazetteer</td>\n",
              "      <td>GREENWICH</td>\n",
              "      <td>Plumstead</td>\n",
              "      <td>Plumstead</td>\n",
              "      <td>Plumstead</td>\n",
              "      <td>Home Station</td>\n",
              "      <td>0</td>\n",
              "      <td>6</td>\n",
              "      <td>1</td>\n",
              "      <td>False</td>\n",
              "      <td>1</td>\n",
              "      <td>2017</td>\n",
              "    </tr>\n",
              "    <tr>\n",
              "      <th>1</th>\n",
              "      <td>000005-01012017</td>\n",
              "      <td>4.0</td>\n",
              "      <td>Dwelling</td>\n",
              "      <td>Correct incident location</td>\n",
              "      <td>ISLINGTON</td>\n",
              "      <td>Euston</td>\n",
              "      <td>Euston</td>\n",
              "      <td>Euston</td>\n",
              "      <td>Home Station</td>\n",
              "      <td>0</td>\n",
              "      <td>6</td>\n",
              "      <td>1</td>\n",
              "      <td>True</td>\n",
              "      <td>1</td>\n",
              "      <td>2017</td>\n",
              "    </tr>\n",
              "    <tr>\n",
              "      <th>2</th>\n",
              "      <td>000006-01012017</td>\n",
              "      <td>5.0</td>\n",
              "      <td>Non Residential</td>\n",
              "      <td>Correct incident location</td>\n",
              "      <td>BARKING AND DAGENHAM</td>\n",
              "      <td>Barking</td>\n",
              "      <td>Barking</td>\n",
              "      <td>Barking</td>\n",
              "      <td>Home Station</td>\n",
              "      <td>0</td>\n",
              "      <td>6</td>\n",
              "      <td>1</td>\n",
              "      <td>False</td>\n",
              "      <td>1</td>\n",
              "      <td>2017</td>\n",
              "    </tr>\n",
              "    <tr>\n",
              "      <th>3</th>\n",
              "      <td>000008-01012017</td>\n",
              "      <td>7.0</td>\n",
              "      <td>Outdoor</td>\n",
              "      <td>On land associated with building</td>\n",
              "      <td>EALING</td>\n",
              "      <td>Northolt</td>\n",
              "      <td>Northolt</td>\n",
              "      <td>Northolt</td>\n",
              "      <td>Home Station</td>\n",
              "      <td>0</td>\n",
              "      <td>6</td>\n",
              "      <td>1</td>\n",
              "      <td>False</td>\n",
              "      <td>1</td>\n",
              "      <td>2017</td>\n",
              "    </tr>\n",
              "    <tr>\n",
              "      <th>4</th>\n",
              "      <td>000008-01012017</td>\n",
              "      <td>7.0</td>\n",
              "      <td>Outdoor</td>\n",
              "      <td>On land associated with building</td>\n",
              "      <td>EALING</td>\n",
              "      <td>Northolt</td>\n",
              "      <td>Northolt</td>\n",
              "      <td>Northolt</td>\n",
              "      <td>Home Station</td>\n",
              "      <td>0</td>\n",
              "      <td>6</td>\n",
              "      <td>1</td>\n",
              "      <td>False</td>\n",
              "      <td>2</td>\n",
              "      <td>2017</td>\n",
              "    </tr>\n",
              "  </tbody>\n",
              "</table>\n",
              "</div>"
            ],
            "text/plain": [
              "    IncidentNumber  ResponseTimeMinute  ... PumpOrder CalYear\n",
              "0  000004-01012017                14.0  ...         1    2017\n",
              "1  000005-01012017                 4.0  ...         1    2017\n",
              "2  000006-01012017                 5.0  ...         1    2017\n",
              "3  000008-01012017                 7.0  ...         1    2017\n",
              "4  000008-01012017                 7.0  ...         2    2017\n",
              "\n",
              "[5 rows x 15 columns]"
            ]
          },
          "metadata": {
            "tags": []
          },
          "execution_count": 12
        }
      ]
    },
    {
      "cell_type": "code",
      "metadata": {
        "id": "XgJcq_EZxwv9"
      },
      "source": [
        "# Recherche et suppression des quelques données manquantes\r\n",
        "df.isna().sum()\r\n",
        "df = df.dropna(axis = 0, how = 'any')"
      ],
      "id": "XgJcq_EZxwv9",
      "execution_count": null,
      "outputs": []
    },
    {
      "cell_type": "code",
      "metadata": {
        "id": "w_w8PQ_11soK"
      },
      "source": [
        "# Export du DataFrame nettoyé au format csv\r\n",
        "df.to_csv('Pyrefighter_cleaned_database.csv', sep=';', index = False) "
      ],
      "id": "w_w8PQ_11soK",
      "execution_count": null,
      "outputs": []
    }
  ]
}